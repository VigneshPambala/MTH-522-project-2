{
 "cells": [
  {
   "cell_type": "code",
   "execution_count": 1,
   "id": "adaf0ce4-d2c6-48d0-bde8-a875a971bd9b",
   "metadata": {},
   "outputs": [
    {
     "name": "stdout",
     "output_type": "stream",
     "text": [
      "R-squared scores from 5-Fold Cross-Validation: [0.934789   0.98810825 0.96056597 0.95052224 0.94930291]\n",
      "Mean R-squared score: 0.9566576750777802\n",
      "Standard Deviation of R-squared scores: 0.017744794428932863\n"
     ]
    }
   ],
   "source": [
    "import pandas as pd\n",
    "from sklearn.linear_model import LinearRegression\n",
    "from sklearn.model_selection import cross_val_score\n",
    "import numpy as np\n",
    "\n",
    "# Load the data from the stored file (mp2 - input.csv)\n",
    "df = pd.read_csv('input.csv')\n",
    "\n",
    "# Define the input (post-molt size) and output (pre-molt size)\n",
    "X = df[['Post-molt']]\n",
    "y = df['Pre-molt']\n",
    "\n",
    "# Initialize the linear regression model\n",
    "model = LinearRegression()\n",
    "\n",
    "# Perform k-Fold Cross-Validation (k=5)\n",
    "k = 5\n",
    "cv_scores = cross_val_score(model, X, y, cv=k, scoring='r2')\n",
    "\n",
    "# Output the results\n",
    "print(f'R-squared scores from {k}-Fold Cross-Validation: {cv_scores}')\n",
    "print(f'Mean R-squared score: {np.mean(cv_scores)}')\n",
    "print(f'Standard Deviation of R-squared scores: {np.std(cv_scores)}')"
   ]
  },
  {
   "cell_type": "code",
   "execution_count": null,
   "id": "5dc07ba1-b70a-4c60-ae4c-c1f075b8a07b",
   "metadata": {},
   "outputs": [],
   "source": []
  },
  {
   "cell_type": "code",
   "execution_count": null,
   "id": "5417d606-5d60-4e25-a3d8-5669bc86bd09",
   "metadata": {},
   "outputs": [],
   "source": []
  }
 ],
 "metadata": {
  "kernelspec": {
   "display_name": "Python 3 (ipykernel)",
   "language": "python",
   "name": "python3"
  },
  "language_info": {
   "codemirror_mode": {
    "name": "ipython",
    "version": 3
   },
   "file_extension": ".py",
   "mimetype": "text/x-python",
   "name": "python",
   "nbconvert_exporter": "python",
   "pygments_lexer": "ipython3",
   "version": "3.12.4"
  }
 },
 "nbformat": 4,
 "nbformat_minor": 5
}
